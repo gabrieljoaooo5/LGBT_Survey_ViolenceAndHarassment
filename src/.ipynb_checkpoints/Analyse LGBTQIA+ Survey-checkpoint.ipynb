{
 "cells": [
  {
   "cell_type": "markdown",
   "metadata": {},
   "source": [
    "# Analyse LGBTQIA+ Survey"
   ]
  },
  {
   "cell_type": "markdown",
   "metadata": {},
   "source": [
    "## Imports"
   ]
  },
  {
   "cell_type": "code",
   "execution_count": 14,
   "metadata": {},
   "outputs": [
    {
     "data": {
      "text/html": [
       "<div>\n",
       "<style scoped>\n",
       "    .dataframe tbody tr th:only-of-type {\n",
       "        vertical-align: middle;\n",
       "    }\n",
       "\n",
       "    .dataframe tbody tr th {\n",
       "        vertical-align: top;\n",
       "    }\n",
       "\n",
       "    .dataframe thead th {\n",
       "        text-align: right;\n",
       "    }\n",
       "</style>\n",
       "<table border=\"1\" class=\"dataframe\">\n",
       "  <thead>\n",
       "    <tr style=\"text-align: right;\">\n",
       "      <th></th>\n",
       "      <th>CountryCode</th>\n",
       "      <th>subset</th>\n",
       "      <th>question_code</th>\n",
       "      <th>question_label</th>\n",
       "      <th>answer</th>\n",
       "      <th>percentage</th>\n",
       "      <th>notes</th>\n",
       "    </tr>\n",
       "  </thead>\n",
       "  <tbody>\n",
       "    <tr>\n",
       "      <th>0</th>\n",
       "      <td>Austria</td>\n",
       "      <td>Lesbian</td>\n",
       "      <td>e1</td>\n",
       "      <td>Do you avoid holding hands in public with a sa...</td>\n",
       "      <td>Yes</td>\n",
       "      <td>33</td>\n",
       "      <td>NaN</td>\n",
       "    </tr>\n",
       "    <tr>\n",
       "      <th>1</th>\n",
       "      <td>Austria</td>\n",
       "      <td>Lesbian</td>\n",
       "      <td>e1</td>\n",
       "      <td>Do you avoid holding hands in public with a sa...</td>\n",
       "      <td>No</td>\n",
       "      <td>53</td>\n",
       "      <td>NaN</td>\n",
       "    </tr>\n",
       "    <tr>\n",
       "      <th>2</th>\n",
       "      <td>Austria</td>\n",
       "      <td>Lesbian</td>\n",
       "      <td>e1</td>\n",
       "      <td>Do you avoid holding hands in public with a sa...</td>\n",
       "      <td>I do not have a same-sex partner</td>\n",
       "      <td>12</td>\n",
       "      <td>NaN</td>\n",
       "    </tr>\n",
       "    <tr>\n",
       "      <th>3</th>\n",
       "      <td>Austria</td>\n",
       "      <td>Lesbian</td>\n",
       "      <td>e1</td>\n",
       "      <td>Do you avoid holding hands in public with a sa...</td>\n",
       "      <td>Don`t know</td>\n",
       "      <td>2</td>\n",
       "      <td>[0]</td>\n",
       "    </tr>\n",
       "    <tr>\n",
       "      <th>4</th>\n",
       "      <td>Austria</td>\n",
       "      <td>Gay</td>\n",
       "      <td>e1</td>\n",
       "      <td>Do you avoid holding hands in public with a sa...</td>\n",
       "      <td>Yes</td>\n",
       "      <td>51</td>\n",
       "      <td>NaN</td>\n",
       "    </tr>\n",
       "  </tbody>\n",
       "</table>\n",
       "</div>"
      ],
      "text/plain": [
       "  CountryCode   subset question_code  \\\n",
       "0     Austria  Lesbian            e1   \n",
       "1     Austria  Lesbian            e1   \n",
       "2     Austria  Lesbian            e1   \n",
       "3     Austria  Lesbian            e1   \n",
       "4     Austria      Gay            e1   \n",
       "\n",
       "                                      question_label  \\\n",
       "0  Do you avoid holding hands in public with a sa...   \n",
       "1  Do you avoid holding hands in public with a sa...   \n",
       "2  Do you avoid holding hands in public with a sa...   \n",
       "3  Do you avoid holding hands in public with a sa...   \n",
       "4  Do you avoid holding hands in public with a sa...   \n",
       "\n",
       "                             answer percentage notes  \n",
       "0                               Yes         33   NaN  \n",
       "1                                No         53   NaN  \n",
       "2  I do not have a same-sex partner         12   NaN  \n",
       "3                        Don`t know          2   [0]  \n",
       "4                               Yes         51   NaN  "
      ]
     },
     "execution_count": 14,
     "metadata": {},
     "output_type": "execute_result"
    }
   ],
   "source": [
    "import pandas as pd\n",
    "import numpy as np\n",
    "import re\n",
    "import unidecode\n",
    "import datetime\n",
    "import time\n",
    "import itertools\n",
    "import operator\n",
    "from difflib import SequenceMatcher\n",
    "\n",
    "df = pd.read_csv(\"../data/LGBT_Survey_ViolenceAndHarassment.csv\")\n",
    "df.head()"
   ]
  },
  {
   "cell_type": "markdown",
   "metadata": {},
   "source": [
    "## Data Preparation"
   ]
  },
  {
   "cell_type": "code",
   "execution_count": 15,
   "metadata": {},
   "outputs": [
    {
     "name": "stdout",
     "output_type": "stream",
     "text": [
      "<class 'pandas.core.frame.DataFrame'>\n",
      "RangeIndex: 45355 entries, 0 to 45354\n",
      "Data columns (total 7 columns):\n",
      " #   Column          Non-Null Count  Dtype \n",
      "---  ------          --------------  ----- \n",
      " 0   CountryCode     45355 non-null  object\n",
      " 1   subset          45355 non-null  object\n",
      " 2   question_code   45355 non-null  object\n",
      " 3   question_label  45355 non-null  object\n",
      " 4   answer          45355 non-null  object\n",
      " 5   percentage      45355 non-null  object\n",
      " 6   notes           31969 non-null  object\n",
      "dtypes: object(7)\n",
      "memory usage: 2.4+ MB\n"
     ]
    }
   ],
   "source": [
    "df.info()"
   ]
  },
  {
   "cell_type": "code",
   "execution_count": 16,
   "metadata": {},
   "outputs": [
    {
     "data": {
      "text/plain": [
       "array(['Austria', 'Belgium', 'Bulgaria', 'Cyprus', 'Czech Republic',\n",
       "       'Germany', 'Denmark', 'Estonia', 'Greece', 'Spain', 'Finland',\n",
       "       'France', 'Croatia', 'Hungary', 'Ireland', 'Italy', 'Lithuania',\n",
       "       'Luxembourg', 'Latvia', 'Malta', 'Netherlands', 'Poland',\n",
       "       'Portugal', 'Romania', 'Sweden', 'Slovenia', 'Slovakia',\n",
       "       'United Kingdom', 'Average'], dtype=object)"
      ]
     },
     "execution_count": 16,
     "metadata": {},
     "output_type": "execute_result"
    }
   ],
   "source": [
    "# check the countries\n",
    "df.CountryCode.unique()"
   ]
  },
  {
   "cell_type": "code",
   "execution_count": 17,
   "metadata": {},
   "outputs": [
    {
     "data": {
      "text/plain": [
       "array(['Lesbian', 'Gay', 'Bisexual women', 'Bisexual men', 'Transgender'],\n",
       "      dtype=object)"
      ]
     },
     "execution_count": 17,
     "metadata": {},
     "output_type": "execute_result"
    }
   ],
   "source": [
    "# check the subset column\n",
    "df.subset.unique()"
   ]
  },
  {
   "cell_type": "code",
   "execution_count": 18,
   "metadata": {},
   "outputs": [
    {
     "data": {
      "text/plain": [
       "True"
      ]
     },
     "execution_count": 18,
     "metadata": {},
     "output_type": "execute_result"
    }
   ],
   "source": [
    "# check if the amount of codes and labels are the same\n",
    "len(df.question_code.unique()) == len(df.question_label.unique())"
   ]
  },
  {
   "cell_type": "code",
   "execution_count": 19,
   "metadata": {},
   "outputs": [
    {
     "data": {
      "text/plain": [
       "[0]      25072\n",
       " [1]      6897\n",
       "Name: notes, dtype: int64"
      ]
     },
     "execution_count": 19,
     "metadata": {},
     "output_type": "execute_result"
    }
   ],
   "source": [
    "# check the notes column: [0]: small sample size; [1]: NA due to small sample size; [2]: missing value\n",
    "df.notes.value_counts() "
   ]
  },
  {
   "cell_type": "code",
   "execution_count": 20,
   "metadata": {},
   "outputs": [
    {
     "data": {
      "text/plain": [
       "['Do you avoid holding hands in public with a same-sex partner for fear of being assaulted, threatened of harassed?',\n",
       " 'Do you avoid certain places or locations for fear of being assaulted, threatened or harassed because you are L, G, B or T?',\n",
       " 'Where do you avoid being open about yourself as L, G, B or T for fear of being assaulted, threatened or harassed by others?',\n",
       " 'In the last 5 years, have you been: physically/sexually attacked or threatened with violence at home or elsewhere (street, on public transport, at your workplace, etc) for any reason?',\n",
       " 'In the last 5 years, have you been: personally harassed by someone or a group for any reason in a way that really annoyed, offended or upset you - either at work, home, on the street, on public transport, in a shop, in an office or on the internet ?',\n",
       " 'Where did the last incident of physical / sexual attack or threat of violence happen?',\n",
       " 'Did you or anyone else report the last incident of physical / sexual attack or threat of violence to the police?',\n",
       " 'Why did you not report the last incident of physical / sexual attack or threat of violence to the police?',\n",
       " 'Did you or anyone else report the last incident of physical / sexual attack or threat of violence to any of the following organisations / institutions? *',\n",
       " 'How many times did somebody physically/sexually attack or threaten you with violence in the last 12 months in the European Union / in this country?',\n",
       " 'Thinking about the LAST physical / sexual attack or threat of violence, what happened to you? *',\n",
       " 'Do you think the LAST incident of physical / sexual attack or threat of violence in the past 12 months happened partly or completely because you were perceived to be L, G, B or T?',\n",
       " 'Was the perpetrator alone, or was there more than one perpetrator?',\n",
       " 'LAST incident of physical / sexual attack or threat of violence in the past 12 months - who was the perpetrator?',\n",
       " 'LAST incident of physical / sexual attack or threat of violence in the past 12 months - What was the gender of the perpetrator(s)?',\n",
       " 'LAST incident of physical / sexual attack or threat of violence in the past 12 months - What do you think the perpetrator(s) was? *',\n",
       " 'The MOST SERIOUS physical / sexual attack or threat of violence - Where did it happen?',\n",
       " 'MOST SERIOUS physical / sexual attack or threat of violence - Did you or anyone else report it to the police?',\n",
       " 'MOST SERIOUS physical / sexual attack or threat of violence - Why did you not report it to the police?',\n",
       " 'MOST SERIOUS physical / sexual attack or threat of violence - Did you or anyone else report it to any of the following organisations / institutions? *',\n",
       " 'Thinking about the MOST SERIOUS physical / sexual attack or threat of violence, what happened to you? *',\n",
       " 'Do you think this physical / sexual attack or threat happened partly or completely because you were perceived to be L, G, B or T?',\n",
       " 'MOST SERIOUS physical / sexual attack or threat of violence - Was the perpetrator alone, or was there more than one perpetrator?',\n",
       " 'MOST SERIOUS physical / sexual attack or threat of violence - Do you think the perpetrator(s) was? *',\n",
       " 'MOST SERIOUS physical / sexual attack or threat of violence - What was the gender of the perpetrator(s)?',\n",
       " 'MOST SERIOUS physical / sexual attack or threat of violence - Do you think the perpetrator(s) was? (sexual orientation)',\n",
       " 'LAST incident of harassment in the past 12 months - Where did it happen?',\n",
       " 'LAST incident of harassment in the past 12 months - Did you or anyone else report it to the police?',\n",
       " 'LAST incident of harassment in the past 12 months - Why did you not report it to the police?',\n",
       " 'LAST incident of harassment in the past 12 months - Did you or anyone else report it to any of the following organisations / institutions? *',\n",
       " 'How many times did somebody harass you in the last 12 months?',\n",
       " 'Thinking about the LAST incident of harassment, what happened to you: *',\n",
       " 'Do you think the LAST incident of harassment in the past 12 months happened partly or completely because you were perceived to be L, G, B or T?',\n",
       " 'LAST incident of harassment in the past 12 months - Was the perpetrator alone, or was there more than one perpetrator?',\n",
       " 'LAST incident of harassment in the past 12 months - who was the perpetrator?',\n",
       " 'LAST incident of harassment in the past 12 months - What was the gender of the perpetrator(s)?',\n",
       " 'LAST incident of harassment in the past 12 months - Do you think the perpetrator(s) was ...? (sexual orientation)',\n",
       " 'MOST SERIOUS incident of harassment - Where did it happen?',\n",
       " 'MOST SERIOUS incident of harassment - Did you or anyone else report it to the police?',\n",
       " 'MOST SERIOUS incident of harassment - Why did you not report it to the police?',\n",
       " 'MOST SERIOUS incident of harassment - Did you or anyone else report it to any of the following organisations / institutions? *',\n",
       " 'Thinking about the MOST SERIOUS incident of harassment, what happened to you? *',\n",
       " 'Do you think the MOST SERIOUS incident of harassment happened partly or completely because you were perceived to be L, G, B or T?',\n",
       " 'MOST SERIOUS incident of harassment - Was the perpetrator alone, or was there more than one perpetrator?',\n",
       " 'MOST SERIOUS incident of harassment - who was the perpetrator?',\n",
       " 'MOST SERIOUS incident of harassment - What was the gender of the perpetrator(s)?',\n",
       " 'MOST SERIOUS incident of harassment - Do you think the perpetrator(s) was ...? (sexual orientation)']"
      ]
     },
     "execution_count": 20,
     "metadata": {},
     "output_type": "execute_result"
    }
   ],
   "source": [
    "# check the questions\n",
    "df.question_label.unique().tolist()"
   ]
  },
  {
   "cell_type": "markdown",
   "metadata": {},
   "source": [
    "## What are the most dangerous places for LGBTQIA+ people?"
   ]
  },
  {
   "cell_type": "code",
   "execution_count": 21,
   "metadata": {},
   "outputs": [],
   "source": [
    "def filterQuestions(keyword):\n",
    "    questions = df.question_label.unique().tolist()\n",
    "    keyword_list = []\n",
    "    \n",
    "    for question in questions:\n",
    "        if keyword in question:\n",
    "            keyword_list.append(question)\n",
    "            \n",
    "    return keyword_list"
   ]
  },
  {
   "cell_type": "code",
   "execution_count": 22,
   "metadata": {},
   "outputs": [
    {
     "data": {
      "text/plain": [
       "['Where do you avoid being open about yourself as L, G, B or T for fear of being assaulted, threatened or harassed by others?',\n",
       " 'Where did the last incident of physical / sexual attack or threat of violence happen?',\n",
       " 'The MOST SERIOUS physical / sexual attack or threat of violence - Where did it happen?',\n",
       " 'LAST incident of harassment in the past 12 months - Where did it happen?',\n",
       " 'MOST SERIOUS incident of harassment - Where did it happen?']"
      ]
     },
     "execution_count": 22,
     "metadata": {},
     "output_type": "execute_result"
    }
   ],
   "source": [
    "place_questions = filterQuestions('Where')\n",
    "place_questions"
   ]
  },
  {
   "cell_type": "code",
   "execution_count": 23,
   "metadata": {},
   "outputs": [
    {
     "data": {
      "text/html": [
       "<div>\n",
       "<style scoped>\n",
       "    .dataframe tbody tr th:only-of-type {\n",
       "        vertical-align: middle;\n",
       "    }\n",
       "\n",
       "    .dataframe tbody tr th {\n",
       "        vertical-align: top;\n",
       "    }\n",
       "\n",
       "    .dataframe thead th {\n",
       "        text-align: right;\n",
       "    }\n",
       "</style>\n",
       "<table border=\"1\" class=\"dataframe\">\n",
       "  <thead>\n",
       "    <tr style=\"text-align: right;\">\n",
       "      <th></th>\n",
       "      <th>CountryCode</th>\n",
       "      <th>subset</th>\n",
       "      <th>question_code</th>\n",
       "      <th>question_label</th>\n",
       "      <th>answer</th>\n",
       "      <th>percentage</th>\n",
       "      <th>notes</th>\n",
       "    </tr>\n",
       "  </thead>\n",
       "  <tbody>\n",
       "    <tr>\n",
       "      <th>1015</th>\n",
       "      <td>Austria</td>\n",
       "      <td>Lesbian</td>\n",
       "      <td>e3</td>\n",
       "      <td>Where do you avoid being open about yourself a...</td>\n",
       "      <td>My home</td>\n",
       "      <td>6</td>\n",
       "      <td>[0]</td>\n",
       "    </tr>\n",
       "    <tr>\n",
       "      <th>1016</th>\n",
       "      <td>Austria</td>\n",
       "      <td>Lesbian</td>\n",
       "      <td>e3</td>\n",
       "      <td>Where do you avoid being open about yourself a...</td>\n",
       "      <td>School</td>\n",
       "      <td>15</td>\n",
       "      <td>NaN</td>\n",
       "    </tr>\n",
       "    <tr>\n",
       "      <th>1017</th>\n",
       "      <td>Austria</td>\n",
       "      <td>Lesbian</td>\n",
       "      <td>e3</td>\n",
       "      <td>Where do you avoid being open about yourself a...</td>\n",
       "      <td>Workplace</td>\n",
       "      <td>36</td>\n",
       "      <td>NaN</td>\n",
       "    </tr>\n",
       "    <tr>\n",
       "      <th>1018</th>\n",
       "      <td>Austria</td>\n",
       "      <td>Lesbian</td>\n",
       "      <td>e3</td>\n",
       "      <td>Where do you avoid being open about yourself a...</td>\n",
       "      <td>A cafe, restaurant, pub, club</td>\n",
       "      <td>39</td>\n",
       "      <td>NaN</td>\n",
       "    </tr>\n",
       "    <tr>\n",
       "      <th>1019</th>\n",
       "      <td>Austria</td>\n",
       "      <td>Lesbian</td>\n",
       "      <td>e3</td>\n",
       "      <td>Where do you avoid being open about yourself a...</td>\n",
       "      <td>Public transport</td>\n",
       "      <td>53</td>\n",
       "      <td>NaN</td>\n",
       "    </tr>\n",
       "  </tbody>\n",
       "</table>\n",
       "</div>"
      ],
      "text/plain": [
       "     CountryCode   subset question_code  \\\n",
       "1015     Austria  Lesbian            e3   \n",
       "1016     Austria  Lesbian            e3   \n",
       "1017     Austria  Lesbian            e3   \n",
       "1018     Austria  Lesbian            e3   \n",
       "1019     Austria  Lesbian            e3   \n",
       "\n",
       "                                         question_label  \\\n",
       "1015  Where do you avoid being open about yourself a...   \n",
       "1016  Where do you avoid being open about yourself a...   \n",
       "1017  Where do you avoid being open about yourself a...   \n",
       "1018  Where do you avoid being open about yourself a...   \n",
       "1019  Where do you avoid being open about yourself a...   \n",
       "\n",
       "                             answer  percentage notes  \n",
       "1015                        My home           6   [0]  \n",
       "1016                         School          15   NaN  \n",
       "1017                      Workplace          36   NaN  \n",
       "1018  A cafe, restaurant, pub, club          39   NaN  \n",
       "1019               Public transport          53   NaN  "
      ]
     },
     "execution_count": 23,
     "metadata": {},
     "output_type": "execute_result"
    }
   ],
   "source": [
    "df_place = df[df.question_label.isin(place_questions)]\n",
    "df_place = df_place[df_place.percentage != ':']\n",
    "\n",
    "df_place.percentage = df_place.percentage.astype(int)\n",
    "\n",
    "df_place.head()"
   ]
  },
  {
   "cell_type": "code",
   "execution_count": 27,
   "metadata": {},
   "outputs": [
    {
     "name": "stdout",
     "output_type": "stream",
     "text": [
      "**************************************************\n",
      "\n",
      "Subset: Lesbian\n",
      "                                                    percentage\n",
      "answer                                                        \n",
      "In a street, square, car parking lot or other p...        5293\n",
      "Public transport                                          2489\n",
      "Public premises or buildings                              1554\n",
      "A cafe, restaurant, pub, club                             2336\n",
      "Workplace                                                 2098\n",
      "**************************************************\n",
      "\n",
      "Subset: Gay\n",
      "                                                    percentage\n",
      "answer                                                        \n",
      "In a street, square, car parking lot or other p...        6372\n",
      "Public transport                                          2749\n",
      "Public premises or buildings                              1829\n",
      "A cafe, restaurant, pub, club                             2683\n",
      "Workplace                                                 2362\n",
      "**************************************************\n",
      "\n",
      "Subset: Bisexual women\n",
      "                                                    percentage\n",
      "answer                                                        \n",
      "In a street, square, car parking lot or other p...        4035\n",
      "Public transport                                          2169\n",
      "Workplace                                                 1885\n",
      "A cafe, restaurant, pub, club                             1997\n",
      "At my home                                                1688\n",
      "**************************************************\n",
      "\n",
      "Subset: Bisexual men\n",
      "                                                    percentage\n",
      "answer                                                        \n",
      "In a street, square, car parking lot or other p...        4178\n",
      "Public transport                                          2185\n",
      "Public premises or buildings                              1626\n",
      "A cafe, restaurant, pub, club                             2291\n",
      "Workplace                                                 2172\n",
      "**************************************************\n",
      "\n",
      "Subset: Transgender\n",
      "                                                    percentage\n",
      "answer                                                        \n",
      "In a street, square, car parking lot or other p...        4504\n",
      "Public transport                                          2162\n",
      "Public premises or buildings                              1406\n",
      "A cafe, restaurant, pub, club                             2054\n",
      "Workplace                                                 1962\n"
     ]
    }
   ],
   "source": [
    "for subset in df.subset.unique().tolist(): \n",
    "    df_subset = df_place[df_place.subset == subset]\n",
    "    df_subset = df_subset.groupby('answer').sum().sort_values(by='percentage', ascending=False)\n",
    "    df_subset = df_subset[df_subset.percentage != 0]\n",
    "    \n",
    "    answers_list = df_subset.index.tolist()\n",
    "\n",
    "    for answer_1 in answers_list:\n",
    "        for answer_2 in answers_list:\n",
    "            similarity = SequenceMatcher(a=answer_1,b=answer_2).ratio()\n",
    "            if(similarity > 0.6 and similarity != 1):\n",
    "                percentage = df_subset[df_subset.index == answer_2]['percentage'].tolist()[0]\n",
    "                df_subset[df_subset.index == answer_1] += percentage\n",
    "                answers_list.remove(answer_2)\n",
    "                df_subset.drop(answer_2, inplace=True)\n",
    "    print(\"*\"*50)\n",
    "    print('\\nSubset: ' + subset)\n",
    "    print(df_subset[df_subset.percentage >= df_subset.percentage.quantile(0.75)])\n",
    "            \n",
    "\n",
    "    "
   ]
  },
  {
   "cell_type": "code",
   "execution_count": null,
   "metadata": {},
   "outputs": [],
   "source": []
  }
 ],
 "metadata": {
  "kernelspec": {
   "display_name": "Python 3",
   "language": "python",
   "name": "python3"
  },
  "language_info": {
   "codemirror_mode": {
    "name": "ipython",
    "version": 3
   },
   "file_extension": ".py",
   "mimetype": "text/x-python",
   "name": "python",
   "nbconvert_exporter": "python",
   "pygments_lexer": "ipython3",
   "version": "3.8.3"
  }
 },
 "nbformat": 4,
 "nbformat_minor": 4
}
