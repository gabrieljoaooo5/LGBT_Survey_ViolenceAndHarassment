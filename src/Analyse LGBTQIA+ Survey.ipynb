{
 "cells": [
  {
   "cell_type": "markdown",
   "metadata": {},
   "source": [
    "# Analyse LGBTQIA+ Survey"
   ]
  },
  {
   "cell_type": "markdown",
   "metadata": {},
   "source": [
    "## Imports"
   ]
  },
  {
   "cell_type": "code",
   "execution_count": 64,
   "metadata": {},
   "outputs": [
    {
     "data": {
      "text/html": [
       "<div>\n",
       "<style scoped>\n",
       "    .dataframe tbody tr th:only-of-type {\n",
       "        vertical-align: middle;\n",
       "    }\n",
       "\n",
       "    .dataframe tbody tr th {\n",
       "        vertical-align: top;\n",
       "    }\n",
       "\n",
       "    .dataframe thead th {\n",
       "        text-align: right;\n",
       "    }\n",
       "</style>\n",
       "<table border=\"1\" class=\"dataframe\">\n",
       "  <thead>\n",
       "    <tr style=\"text-align: right;\">\n",
       "      <th></th>\n",
       "      <th>CountryCode</th>\n",
       "      <th>subset</th>\n",
       "      <th>question_code</th>\n",
       "      <th>question_label</th>\n",
       "      <th>answer</th>\n",
       "      <th>percentage</th>\n",
       "      <th>notes</th>\n",
       "    </tr>\n",
       "  </thead>\n",
       "  <tbody>\n",
       "    <tr>\n",
       "      <th>0</th>\n",
       "      <td>Austria</td>\n",
       "      <td>Lesbian</td>\n",
       "      <td>e1</td>\n",
       "      <td>Do you avoid holding hands in public with a sa...</td>\n",
       "      <td>Yes</td>\n",
       "      <td>33</td>\n",
       "      <td>NaN</td>\n",
       "    </tr>\n",
       "    <tr>\n",
       "      <th>1</th>\n",
       "      <td>Austria</td>\n",
       "      <td>Lesbian</td>\n",
       "      <td>e1</td>\n",
       "      <td>Do you avoid holding hands in public with a sa...</td>\n",
       "      <td>No</td>\n",
       "      <td>53</td>\n",
       "      <td>NaN</td>\n",
       "    </tr>\n",
       "    <tr>\n",
       "      <th>2</th>\n",
       "      <td>Austria</td>\n",
       "      <td>Lesbian</td>\n",
       "      <td>e1</td>\n",
       "      <td>Do you avoid holding hands in public with a sa...</td>\n",
       "      <td>I do not have a same-sex partner</td>\n",
       "      <td>12</td>\n",
       "      <td>NaN</td>\n",
       "    </tr>\n",
       "    <tr>\n",
       "      <th>3</th>\n",
       "      <td>Austria</td>\n",
       "      <td>Lesbian</td>\n",
       "      <td>e1</td>\n",
       "      <td>Do you avoid holding hands in public with a sa...</td>\n",
       "      <td>Don`t know</td>\n",
       "      <td>2</td>\n",
       "      <td>[0]</td>\n",
       "    </tr>\n",
       "    <tr>\n",
       "      <th>4</th>\n",
       "      <td>Austria</td>\n",
       "      <td>Gay</td>\n",
       "      <td>e1</td>\n",
       "      <td>Do you avoid holding hands in public with a sa...</td>\n",
       "      <td>Yes</td>\n",
       "      <td>51</td>\n",
       "      <td>NaN</td>\n",
       "    </tr>\n",
       "  </tbody>\n",
       "</table>\n",
       "</div>"
      ],
      "text/plain": [
       "  CountryCode   subset question_code  \\\n",
       "0     Austria  Lesbian            e1   \n",
       "1     Austria  Lesbian            e1   \n",
       "2     Austria  Lesbian            e1   \n",
       "3     Austria  Lesbian            e1   \n",
       "4     Austria      Gay            e1   \n",
       "\n",
       "                                      question_label  \\\n",
       "0  Do you avoid holding hands in public with a sa...   \n",
       "1  Do you avoid holding hands in public with a sa...   \n",
       "2  Do you avoid holding hands in public with a sa...   \n",
       "3  Do you avoid holding hands in public with a sa...   \n",
       "4  Do you avoid holding hands in public with a sa...   \n",
       "\n",
       "                             answer percentage notes  \n",
       "0                               Yes         33   NaN  \n",
       "1                                No         53   NaN  \n",
       "2  I do not have a same-sex partner         12   NaN  \n",
       "3                        Don`t know          2   [0]  \n",
       "4                               Yes         51   NaN  "
      ]
     },
     "execution_count": 64,
     "metadata": {},
     "output_type": "execute_result"
    }
   ],
   "source": [
    "import pandas as pd\n",
    "import numpy as np\n",
    "import re\n",
    "import unidecode\n",
    "import datetime\n",
    "import time\n",
    "import itertools\n",
    "import operator\n",
    "from difflib import SequenceMatcher\n",
    "\n",
    "df = pd.read_csv(\"../data/LGBT_Survey_ViolenceAndHarassment.csv\")\n",
    "df.head()"
   ]
  },
  {
   "cell_type": "markdown",
   "metadata": {},
   "source": [
    "## Data Preparation"
   ]
  },
  {
   "cell_type": "code",
   "execution_count": 65,
   "metadata": {},
   "outputs": [
    {
     "name": "stdout",
     "output_type": "stream",
     "text": [
      "<class 'pandas.core.frame.DataFrame'>\n",
      "RangeIndex: 45355 entries, 0 to 45354\n",
      "Data columns (total 7 columns):\n",
      " #   Column          Non-Null Count  Dtype \n",
      "---  ------          --------------  ----- \n",
      " 0   CountryCode     45355 non-null  object\n",
      " 1   subset          45355 non-null  object\n",
      " 2   question_code   45355 non-null  object\n",
      " 3   question_label  45355 non-null  object\n",
      " 4   answer          45355 non-null  object\n",
      " 5   percentage      45355 non-null  object\n",
      " 6   notes           31969 non-null  object\n",
      "dtypes: object(7)\n",
      "memory usage: 2.4+ MB\n"
     ]
    }
   ],
   "source": [
    "df.info()"
   ]
  },
  {
   "cell_type": "code",
   "execution_count": 66,
   "metadata": {},
   "outputs": [
    {
     "data": {
      "text/plain": [
       "array(['Austria', 'Belgium', 'Bulgaria', 'Cyprus', 'Czech Republic',\n",
       "       'Germany', 'Denmark', 'Estonia', 'Greece', 'Spain', 'Finland',\n",
       "       'France', 'Croatia', 'Hungary', 'Ireland', 'Italy', 'Lithuania',\n",
       "       'Luxembourg', 'Latvia', 'Malta', 'Netherlands', 'Poland',\n",
       "       'Portugal', 'Romania', 'Sweden', 'Slovenia', 'Slovakia',\n",
       "       'United Kingdom', 'Average'], dtype=object)"
      ]
     },
     "execution_count": 66,
     "metadata": {},
     "output_type": "execute_result"
    }
   ],
   "source": [
    "# check the countries\n",
    "df.CountryCode.unique()"
   ]
  },
  {
   "cell_type": "code",
   "execution_count": 67,
   "metadata": {},
   "outputs": [
    {
     "data": {
      "text/plain": [
       "array(['Lesbian', 'Gay', 'Bisexual women', 'Bisexual men', 'Transgender'],\n",
       "      dtype=object)"
      ]
     },
     "execution_count": 67,
     "metadata": {},
     "output_type": "execute_result"
    }
   ],
   "source": [
    "# check the subset column\n",
    "df.subset.unique()"
   ]
  },
  {
   "cell_type": "code",
   "execution_count": 68,
   "metadata": {},
   "outputs": [
    {
     "data": {
      "text/plain": [
       "True"
      ]
     },
     "execution_count": 68,
     "metadata": {},
     "output_type": "execute_result"
    }
   ],
   "source": [
    "# check if the amount of codes and labels are the same\n",
    "len(df.question_code.unique()) == len(df.question_label.unique())"
   ]
  },
  {
   "cell_type": "code",
   "execution_count": 69,
   "metadata": {},
   "outputs": [
    {
     "data": {
      "text/plain": [
       "[0]      25072\n",
       " [1]      6897\n",
       "Name: notes, dtype: int64"
      ]
     },
     "execution_count": 69,
     "metadata": {},
     "output_type": "execute_result"
    }
   ],
   "source": [
    "# check the notes column: [0]: small sample size; [1]: NA due to small sample size; [2]: missing value\n",
    "df.notes.value_counts() "
   ]
  },
  {
   "cell_type": "code",
   "execution_count": 70,
   "metadata": {},
   "outputs": [
    {
     "data": {
      "text/plain": [
       "['Do you avoid holding hands in public with a same-sex partner for fear of being assaulted, threatened of harassed?',\n",
       " 'Do you avoid certain places or locations for fear of being assaulted, threatened or harassed because you are L, G, B or T?',\n",
       " 'Where do you avoid being open about yourself as L, G, B or T for fear of being assaulted, threatened or harassed by others?',\n",
       " 'In the last 5 years, have you been: physically/sexually attacked or threatened with violence at home or elsewhere (street, on public transport, at your workplace, etc) for any reason?',\n",
       " 'In the last 5 years, have you been: personally harassed by someone or a group for any reason in a way that really annoyed, offended or upset you - either at work, home, on the street, on public transport, in a shop, in an office or on the internet ?',\n",
       " 'Where did the last incident of physical / sexual attack or threat of violence happen?',\n",
       " 'Did you or anyone else report the last incident of physical / sexual attack or threat of violence to the police?',\n",
       " 'Why did you not report the last incident of physical / sexual attack or threat of violence to the police?',\n",
       " 'Did you or anyone else report the last incident of physical / sexual attack or threat of violence to any of the following organisations / institutions? *',\n",
       " 'How many times did somebody physically/sexually attack or threaten you with violence in the last 12 months in the European Union / in this country?',\n",
       " 'Thinking about the LAST physical / sexual attack or threat of violence, what happened to you? *',\n",
       " 'Do you think the LAST incident of physical / sexual attack or threat of violence in the past 12 months happened partly or completely because you were perceived to be L, G, B or T?',\n",
       " 'Was the perpetrator alone, or was there more than one perpetrator?',\n",
       " 'LAST incident of physical / sexual attack or threat of violence in the past 12 months - who was the perpetrator?',\n",
       " 'LAST incident of physical / sexual attack or threat of violence in the past 12 months - What was the gender of the perpetrator(s)?',\n",
       " 'LAST incident of physical / sexual attack or threat of violence in the past 12 months - What do you think the perpetrator(s) was? *',\n",
       " 'The MOST SERIOUS physical / sexual attack or threat of violence - Where did it happen?',\n",
       " 'MOST SERIOUS physical / sexual attack or threat of violence - Did you or anyone else report it to the police?',\n",
       " 'MOST SERIOUS physical / sexual attack or threat of violence - Why did you not report it to the police?',\n",
       " 'MOST SERIOUS physical / sexual attack or threat of violence - Did you or anyone else report it to any of the following organisations / institutions? *',\n",
       " 'Thinking about the MOST SERIOUS physical / sexual attack or threat of violence, what happened to you? *',\n",
       " 'Do you think this physical / sexual attack or threat happened partly or completely because you were perceived to be L, G, B or T?',\n",
       " 'MOST SERIOUS physical / sexual attack or threat of violence - Was the perpetrator alone, or was there more than one perpetrator?',\n",
       " 'MOST SERIOUS physical / sexual attack or threat of violence - Do you think the perpetrator(s) was? *',\n",
       " 'MOST SERIOUS physical / sexual attack or threat of violence - What was the gender of the perpetrator(s)?',\n",
       " 'MOST SERIOUS physical / sexual attack or threat of violence - Do you think the perpetrator(s) was? (sexual orientation)',\n",
       " 'LAST incident of harassment in the past 12 months - Where did it happen?',\n",
       " 'LAST incident of harassment in the past 12 months - Did you or anyone else report it to the police?',\n",
       " 'LAST incident of harassment in the past 12 months - Why did you not report it to the police?',\n",
       " 'LAST incident of harassment in the past 12 months - Did you or anyone else report it to any of the following organisations / institutions? *',\n",
       " 'How many times did somebody harass you in the last 12 months?',\n",
       " 'Thinking about the LAST incident of harassment, what happened to you: *',\n",
       " 'Do you think the LAST incident of harassment in the past 12 months happened partly or completely because you were perceived to be L, G, B or T?',\n",
       " 'LAST incident of harassment in the past 12 months - Was the perpetrator alone, or was there more than one perpetrator?',\n",
       " 'LAST incident of harassment in the past 12 months - who was the perpetrator?',\n",
       " 'LAST incident of harassment in the past 12 months - What was the gender of the perpetrator(s)?',\n",
       " 'LAST incident of harassment in the past 12 months - Do you think the perpetrator(s) was ...? (sexual orientation)',\n",
       " 'MOST SERIOUS incident of harassment - Where did it happen?',\n",
       " 'MOST SERIOUS incident of harassment - Did you or anyone else report it to the police?',\n",
       " 'MOST SERIOUS incident of harassment - Why did you not report it to the police?',\n",
       " 'MOST SERIOUS incident of harassment - Did you or anyone else report it to any of the following organisations / institutions? *',\n",
       " 'Thinking about the MOST SERIOUS incident of harassment, what happened to you? *',\n",
       " 'Do you think the MOST SERIOUS incident of harassment happened partly or completely because you were perceived to be L, G, B or T?',\n",
       " 'MOST SERIOUS incident of harassment - Was the perpetrator alone, or was there more than one perpetrator?',\n",
       " 'MOST SERIOUS incident of harassment - who was the perpetrator?',\n",
       " 'MOST SERIOUS incident of harassment - What was the gender of the perpetrator(s)?',\n",
       " 'MOST SERIOUS incident of harassment - Do you think the perpetrator(s) was ...? (sexual orientation)']"
      ]
     },
     "execution_count": 70,
     "metadata": {},
     "output_type": "execute_result"
    }
   ],
   "source": [
    "# check the questions\n",
    "df.question_label.unique().tolist()"
   ]
  },
  {
   "cell_type": "markdown",
   "metadata": {},
   "source": [
    "## What are the most dangerous places for LGBTQIA+ people?"
   ]
  },
  {
   "cell_type": "code",
   "execution_count": 71,
   "metadata": {},
   "outputs": [],
   "source": [
    "def filterQuestions(keyword):\n",
    "    questions = df.question_label.unique().tolist()\n",
    "    keyword_list = []\n",
    "    \n",
    "    for question in questions:\n",
    "        if keyword in question:\n",
    "            keyword_list.append(question)\n",
    "            \n",
    "    return keyword_list\n",
    "\n",
    "def popularAnswers(df):\n",
    "    for subset in df.subset.unique().tolist():\n",
    "        df_subset = df[df.subset == subset]\n",
    "        df_subset = df_subset.groupby('answer').sum().sort_values(by='percentage', ascending=False)\n",
    "        df_subset = df_subset[df_subset.percentage != 0]\n",
    "        \n",
    "        answers_list = df_subset.index.tolist()\n",
    "\n",
    "        for answer_1 in answers_list:\n",
    "            for answer_2 in answers_list:\n",
    "                similarity = SequenceMatcher(a=answer_1,b=answer_2).ratio()\n",
    "                if(similarity > 0.6 and similarity != 1):\n",
    "                    percentage = df_subset[df_subset.index == answer_2]['percentage'].tolist()[0]\n",
    "                    df_subset[df_subset.index == answer_1] += percentage\n",
    "                    answers_list.remove(answer_2)\n",
    "                    df_subset.drop(answer_2, inplace=True)\n",
    "        print(\"*\"*50)\n",
    "        print('\\nSubset: ' + subset)\n",
    "        print(df_subset[df_subset.percentage >= df_subset.percentage.quantile(0.75)].sort_values('percentage', ascending=False))\n",
    "        \n",
    "def filterDataByQuestions(df, questions_list):\n",
    "    df_questions = df[df.question_label.isin(questions_list)]\n",
    "    df_questions = df_questions[df_questions.percentage != ':']\n",
    "    \n",
    "    df_questions.percentage = df_questions.percentage.astype(int)\n",
    "    \n",
    "    return df_questions"
   ]
  },
  {
   "cell_type": "code",
   "execution_count": 72,
   "metadata": {},
   "outputs": [
    {
     "name": "stdout",
     "output_type": "stream",
     "text": [
      "**************************************************\n",
      "\n",
      "Subset: Lesbian\n",
      "                                                    percentage\n",
      "answer                                                        \n",
      "In a street, square, car parking lot or other p...        5293\n",
      "Public transport                                          2489\n",
      "A cafe, restaurant, pub, club                             2336\n",
      "Workplace                                                 2098\n",
      "Public premises or buildings                              1554\n",
      "**************************************************\n",
      "\n",
      "Subset: Gay\n",
      "                                                    percentage\n",
      "answer                                                        \n",
      "In a street, square, car parking lot or other p...        6372\n",
      "Public transport                                          2749\n",
      "A cafe, restaurant, pub, club                             2683\n",
      "Workplace                                                 2362\n",
      "Public premises or buildings                              1829\n",
      "**************************************************\n",
      "\n",
      "Subset: Bisexual women\n",
      "                                                    percentage\n",
      "answer                                                        \n",
      "In a street, square, car parking lot or other p...        4035\n",
      "Public transport                                          2169\n",
      "A cafe, restaurant, pub, club                             1997\n",
      "Workplace                                                 1885\n",
      "At my home                                                1688\n",
      "**************************************************\n",
      "\n",
      "Subset: Bisexual men\n",
      "                                                    percentage\n",
      "answer                                                        \n",
      "In a street, square, car parking lot or other p...        4178\n",
      "A cafe, restaurant, pub, club                             2291\n",
      "Public transport                                          2185\n",
      "Workplace                                                 2172\n",
      "Public premises or buildings                              1626\n",
      "**************************************************\n",
      "\n",
      "Subset: Transgender\n",
      "                                                    percentage\n",
      "answer                                                        \n",
      "In a street, square, car parking lot or other p...        4504\n",
      "Public transport                                          2162\n",
      "A cafe, restaurant, pub, club                             2054\n",
      "Workplace                                                 1962\n",
      "Public premises or buildings                              1406\n"
     ]
    }
   ],
   "source": [
    "place_questions = filterQuestions('Where')\n",
    "\n",
    "df_place = filterDataByQuestions(df, place_questions)\n",
    "popularAnswers(df_place)"
   ]
  },
  {
   "cell_type": "markdown",
   "metadata": {},
   "source": [
    "## Perpetrator: who was, gender and if their was alone"
   ]
  },
  {
   "cell_type": "code",
   "execution_count": 73,
   "metadata": {},
   "outputs": [
    {
     "data": {
      "text/plain": [
       "['Was the perpetrator alone, or was there more than one perpetrator?',\n",
       " 'LAST incident of physical / sexual attack or threat of violence in the past 12 months - who was the perpetrator?',\n",
       " 'LAST incident of physical / sexual attack or threat of violence in the past 12 months - What was the gender of the perpetrator(s)?',\n",
       " 'LAST incident of physical / sexual attack or threat of violence in the past 12 months - What do you think the perpetrator(s) was? *',\n",
       " 'MOST SERIOUS physical / sexual attack or threat of violence - Was the perpetrator alone, or was there more than one perpetrator?',\n",
       " 'MOST SERIOUS physical / sexual attack or threat of violence - Do you think the perpetrator(s) was? *',\n",
       " 'MOST SERIOUS physical / sexual attack or threat of violence - What was the gender of the perpetrator(s)?',\n",
       " 'MOST SERIOUS physical / sexual attack or threat of violence - Do you think the perpetrator(s) was? (sexual orientation)',\n",
       " 'LAST incident of harassment in the past 12 months - Was the perpetrator alone, or was there more than one perpetrator?',\n",
       " 'LAST incident of harassment in the past 12 months - who was the perpetrator?',\n",
       " 'LAST incident of harassment in the past 12 months - What was the gender of the perpetrator(s)?',\n",
       " 'LAST incident of harassment in the past 12 months - Do you think the perpetrator(s) was ...? (sexual orientation)',\n",
       " 'MOST SERIOUS incident of harassment - Was the perpetrator alone, or was there more than one perpetrator?',\n",
       " 'MOST SERIOUS incident of harassment - who was the perpetrator?',\n",
       " 'MOST SERIOUS incident of harassment - What was the gender of the perpetrator(s)?',\n",
       " 'MOST SERIOUS incident of harassment - Do you think the perpetrator(s) was ...? (sexual orientation)']"
      ]
     },
     "execution_count": 73,
     "metadata": {},
     "output_type": "execute_result"
    }
   ],
   "source": [
    "filterQuestions('perpetrator')"
   ]
  },
  {
   "cell_type": "code",
   "execution_count": 74,
   "metadata": {},
   "outputs": [
    {
     "name": "stdout",
     "output_type": "stream",
     "text": [
      "**************************************************\n",
      "\n",
      "Subset: Lesbian\n",
      "                   percentage\n",
      "answer                       \n",
      "More perpetrators        5135\n",
      "**************************************************\n",
      "\n",
      "Subset: Gay\n",
      "                   percentage\n",
      "answer                       \n",
      "More perpetrators        7092\n",
      "**************************************************\n",
      "\n",
      "Subset: Bisexual men\n",
      "                   percentage\n",
      "answer                       \n",
      "More perpetrators        4746\n",
      "**************************************************\n",
      "\n",
      "Subset: Transgender\n",
      "                   percentage\n",
      "answer                       \n",
      "More perpetrators        5121\n",
      "**************************************************\n",
      "\n",
      "Subset: Bisexual women\n",
      "        percentage\n",
      "answer            \n",
      "Alone         4567\n"
     ]
    }
   ],
   "source": [
    "amount_questions = filterQuestions('Was the perpetrator alone')\n",
    "\n",
    "df_amount = filterDataByQuestions(df, amount_questions)\n",
    "popularAnswers(df_amount)"
   ]
  },
  {
   "cell_type": "code",
   "execution_count": 75,
   "metadata": {},
   "outputs": [
    {
     "name": "stdout",
     "output_type": "stream",
     "text": [
      "**************************************************\n",
      "\n",
      "Subset: Lesbian\n",
      "        percentage\n",
      "answer            \n",
      "Male          6887\n",
      "**************************************************\n",
      "\n",
      "Subset: Gay\n",
      "        percentage\n",
      "answer            \n",
      "Male          9074\n",
      "**************************************************\n",
      "\n",
      "Subset: Bisexual men\n",
      "        percentage\n",
      "answer            \n",
      "Male          6078\n",
      "**************************************************\n",
      "\n",
      "Subset: Transgender\n",
      "        percentage\n",
      "answer            \n",
      "Male          6113\n",
      "**************************************************\n",
      "\n",
      "Subset: Bisexual women\n",
      "        percentage\n",
      "answer            \n",
      "Male          5835\n"
     ]
    }
   ],
   "source": [
    "gender_questions = filterQuestions('gender of the perpetrator')\n",
    "\n",
    "df_gender = filterDataByQuestions(df, gender_questions)\n",
    "popularAnswers(df_gender)"
   ]
  },
  {
   "cell_type": "code",
   "execution_count": 76,
   "metadata": {},
   "outputs": [
    {
     "name": "stdout",
     "output_type": "stream",
     "text": [
      "**************************************************\n",
      "\n",
      "Subset: Lesbian\n",
      "                                            percentage\n",
      "answer                                                \n",
      "Someone else you didn`t know                      4356\n",
      "Teenager or group of teenagers                    1945\n",
      "Someone from school, college or university        1063\n",
      "**************************************************\n",
      "\n",
      "Subset: Gay\n",
      "                                            percentage\n",
      "answer                                                \n",
      "Someone else you didn`t know                      4605\n",
      "Teenager or group of teenagers                    2636\n",
      "Someone from school, college or university        1542\n",
      "**************************************************\n",
      "\n",
      "Subset: Bisexual men\n",
      "                                            percentage\n",
      "answer                                                \n",
      "Someone else you didn`t know                      3232\n",
      "Teenager or group of teenagers                    1727\n",
      "Someone from school, college or university        1275\n",
      "**************************************************\n",
      "\n",
      "Subset: Transgender\n",
      "                                            percentage\n",
      "answer                                                \n",
      "Someone else you didn`t know                      3720\n",
      "Teenager or group of teenagers                    2056\n",
      "Someone from school, college or university        1135\n",
      "**************************************************\n",
      "\n",
      "Subset: Bisexual women\n",
      "                                            percentage\n",
      "answer                                                \n",
      "Someone else you didn`t know                      3690\n",
      "Teenager or group of teenagers                    1566\n",
      "Someone from school, college or university        1305\n"
     ]
    }
   ],
   "source": [
    "identity_questions = filterQuestions('who was the perpetrator')\n",
    "\n",
    "df_identity = filterDataByQuestions(df, identity_questions)\n",
    "popularAnswers(df_identity)"
   ]
  },
  {
   "cell_type": "markdown",
   "metadata": {},
   "source": [
    "## Police: Did you or anyone else report it to the police? /  Why did you not report it to the police?"
   ]
  },
  {
   "cell_type": "code",
   "execution_count": 77,
   "metadata": {},
   "outputs": [
    {
     "data": {
      "text/plain": [
       "['Did you or anyone else report the last incident of physical / sexual attack or threat of violence to the police?',\n",
       " 'Why did you not report the last incident of physical / sexual attack or threat of violence to the police?',\n",
       " 'MOST SERIOUS physical / sexual attack or threat of violence - Did you or anyone else report it to the police?',\n",
       " 'MOST SERIOUS physical / sexual attack or threat of violence - Why did you not report it to the police?',\n",
       " 'LAST incident of harassment in the past 12 months - Did you or anyone else report it to the police?',\n",
       " 'LAST incident of harassment in the past 12 months - Why did you not report it to the police?',\n",
       " 'MOST SERIOUS incident of harassment - Did you or anyone else report it to the police?',\n",
       " 'MOST SERIOUS incident of harassment - Why did you not report it to the police?']"
      ]
     },
     "execution_count": 77,
     "metadata": {},
     "output_type": "execute_result"
    }
   ],
   "source": [
    "filterQuestions('police')"
   ]
  },
  {
   "cell_type": "code",
   "execution_count": 78,
   "metadata": {},
   "outputs": [
    {
     "name": "stdout",
     "output_type": "stream",
     "text": [
      "**************************************************\n",
      "\n",
      "Subset: Lesbian\n",
      "                    percentage\n",
      "answer                        \n",
      "No                        9160\n",
      "No, did not report        9136\n",
      "Yes                       1118\n",
      "**************************************************\n",
      "\n",
      "Subset: Gay\n",
      "                    percentage\n",
      "answer                        \n",
      "No, did not report       10064\n",
      "No                        9760\n",
      "Yes                       1440\n",
      "**************************************************\n",
      "\n",
      "Subset: Bisexual men\n",
      "                    percentage\n",
      "answer                        \n",
      "No, did not report        7057\n",
      "No                        6811\n",
      "Yes                        985\n",
      "**************************************************\n",
      "\n",
      "Subset: Transgender\n",
      "                    percentage\n",
      "answer                        \n",
      "No                        7537\n",
      "No, did not report        7417\n",
      "Yes                       1150\n",
      "**************************************************\n",
      "\n",
      "Subset: Bisexual women\n",
      "                    percentage\n",
      "answer                        \n",
      "No                        8114\n",
      "No, did not report        8101\n",
      "Yes                        675\n"
     ]
    }
   ],
   "source": [
    "report_questions = filterQuestions('Did you or anyone else report')\n",
    "\n",
    "df_report = filterDataByQuestions(df, report_questions)\n",
    "popularAnswers(df_report)"
   ]
  },
  {
   "cell_type": "code",
   "execution_count": 79,
   "metadata": {},
   "outputs": [
    {
     "name": "stdout",
     "output_type": "stream",
     "text": [
      "**************************************************\n",
      "\n",
      "Subset: Lesbian\n",
      "                                                    percentage\n",
      "answer                                                        \n",
      "Did not think they would do anything                      6566\n",
      "Too minor / not serious enough / never occurred...        4799\n",
      "Dealt with it myself/involved a friend/family m...        2457\n",
      "Shame, embarrassment, didn`t want anyone to know          1548\n",
      "**************************************************\n",
      "\n",
      "Subset: Gay\n",
      "                                                    percentage\n",
      "answer                                                        \n",
      "Did not think they would do anything                      8086\n",
      "Too minor / not serious enough / never occurred...        4883\n",
      "Shame, embarrassment, didn`t want anyone to know          2603\n",
      "Fear of a homophobic and/or transphobic reactio...        2415\n",
      "**************************************************\n",
      "\n",
      "Subset: Transgender\n",
      "                                                    percentage\n",
      "answer                                                        \n",
      "Did not think they would do anything                      6175\n",
      "Too minor / not serious enough / never occurred...        3341\n",
      "Fear of a homophobic and/or transphobic reactio...        2113\n",
      "Shame, embarrassment, didn`t want anyone to know          2031\n",
      "**************************************************\n",
      "\n",
      "Subset: Bisexual women\n",
      "                                                    percentage\n",
      "answer                                                        \n",
      "Did not think they would do anything                      5398\n",
      "Too minor / not serious enough / never occurred...        4576\n",
      "Dealt with it myself/involved a friend/family m...        2480\n",
      "Shame, embarrassment, didn`t want anyone to know          1550\n",
      "**************************************************\n",
      "\n",
      "Subset: Bisexual men\n",
      "                                                    percentage\n",
      "answer                                                        \n",
      "Did not think they would do anything                      4387\n",
      "Too minor / not serious enough / never occurred...        3401\n",
      "Shame, embarrassment, didn`t want anyone to know          1874\n",
      "Dealt with it myself/involved a friend/family m...        1838\n"
     ]
    }
   ],
   "source": [
    "reason_questions = filterQuestions('Why did you not report')\n",
    "\n",
    "df_reasons = filterDataByQuestions(df, reason_questions)\n",
    "popularAnswers(df_reasons)"
   ]
  },
  {
   "cell_type": "code",
   "execution_count": null,
   "metadata": {},
   "outputs": [],
   "source": []
  }
 ],
 "metadata": {
  "kernelspec": {
   "display_name": "Python 3",
   "language": "python",
   "name": "python3"
  },
  "language_info": {
   "codemirror_mode": {
    "name": "ipython",
    "version": 3
   },
   "file_extension": ".py",
   "mimetype": "text/x-python",
   "name": "python",
   "nbconvert_exporter": "python",
   "pygments_lexer": "ipython3",
   "version": "3.8.3"
  }
 },
 "nbformat": 4,
 "nbformat_minor": 4
}
